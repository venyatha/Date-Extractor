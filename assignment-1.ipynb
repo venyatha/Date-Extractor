{
 "cells": [
  {
   "cell_type": "code",
   "execution_count": 40,
   "metadata": {},
   "outputs": [],
   "source": [
    "import re\n",
    "import string\n",
    "from string import punctuation"
   ]
  },
  {
   "cell_type": "code",
   "execution_count": 78,
   "metadata": {},
   "outputs": [
    {
     "name": "stdout",
     "output_type": "stream",
     "text": [
      "['Friday, December 21st, 2012', 'January 5th, 2015', 'January 15, 2029', 'May.\\n', ' the 13th of May.\\n', 'May 13, 2007', 'September 11, 2001', 'October 3rd ', 'November 29th ', ' the 1st of January, 2020', 'May ', ' the 5th of May?\\n', 'May 5th', 'June ', 'June ', 'Labor Day', '1/1/2020', '2/1/2020', 'Tuesday afternoon', 'Sunday.\\n', 'Monday.\\n', 'Monday, ', '1935', '1948']\n"
     ]
    }
   ],
   "source": [
    "f = open(\"../Data/Input/input.txt\")\n",
    "text = f.read()\n",
    "matches = []\n",
    "\n",
    "# CLASSES OF STRINGS\n",
    "days = '((Mon|Tues|Wed(nes)?|Thur(s)?|Fri|Sat(ur)?|Sun)(day)?)'\n",
    "numbered_days = '(3[01]|[12][0-9]|0?[1-9]\\b)' \n",
    "numbered_months = '(1[012]|0?[1-9])'\n",
    "\n",
    "years = '((\\d{4}|\\d{2})(?![a-zA-Z]))'\n",
    "ordinal_dates = '(3(0th|1st)|(2(1st|2nd|3rd|[4-9]th))|(1[0-9]th)|(1st|2nd|3rd|[4-9]th))'\n",
    "months = '(?:Jan(?:uary)?|Feb(?:ruary)?|Mar(?:ch)?|Apr(?:il)?|May|Jun(?:e)?|Jul(?:y)?|Aug(?:ust)?|Sep(?:tember)?|Oct(?:ober)?|(Nov|Dec)(?:ember)?)'\n",
    "time = '(0?[1-9]|1[0-2])(:([0-5]\\d))?\\s?((?:a|p)\\.?m\\.?)'\n",
    "time_words = r'\\b((morning|afternoon|evening|night)\\b)'\n",
    "holidays = '(George Washington\\'s Birthday|Labor Day|New Year\\'s Day|Martin Luther King Jr. Day|Memorial Day|Juneteenth|Independence Day|Columbus Day|Veteran\\'s Day|Christmas Day|Thanksgiving Day)'\n",
    "\n",
    "\n",
    "# extras\n",
    "the = '(\\s(the)\\s)'\n",
    "of = '(\\sof\\s)'\n",
    "comma_space = '((,?)\\s?)?'\n",
    "space = '.?\\s?'\n",
    "\n",
    "\n",
    "# (1) Full Date: Friday, December 21st, 2012\n",
    "full_date = days + comma_space + months + space + ordinal_dates + comma_space + years\n",
    "\n",
    "# (2) Full Date Without Weekday: \n",
    "        # The 1st of January, 2012\n",
    "        # January 1st, 2012\n",
    "        # January 2012\n",
    "        # January \n",
    "        # January 1, 2012\n",
    "full_wo_weekday = the + '?' + '(('+ordinal_dates+')' + of + ')?' + months + space + '('+ ordinal_dates +'|'+ numbered_days + ')?' + '((,?)\\s?)?' + '('+years+')?'\n",
    "\n",
    "\n",
    "# (3) Holidays\n",
    "\n",
    "\n",
    "# (4) Numerical\n",
    "        # 01/01/2001\n",
    "        # 01/01\n",
    "        # 1/1/0\n",
    "numerical = r'(\\b(1[012]|0?[1-9])[\\-\\/]([3][0-1]|[2][0-9]|1[0-9]|0?[1-9])([\\-\\/](\\d{4}|\\d{2}|\\b)|\\b))'\n",
    "\n",
    "\n",
    "# (5) Weekday the Ordinal\n",
    "        # Monday the 5th\n",
    "day_the_ordinal = days + the + ordinal_dates\n",
    "\n",
    "\n",
    "# (6) Weekday and time\n",
    "        # Monday afternoon\n",
    "        # Monday 2pm\n",
    "        # Monday 3:14 am\n",
    "weekday_time = days + space + '(' + time_words + '|' + time + ')?'\n",
    "\n",
    "\n",
    "# (7) Just times\n",
    "j_times = time\n",
    "\n",
    "\n",
    "# (8) Just years\n",
    "        # Only allows for 4 digits\n",
    "lone_years = '\\d{4}'\n",
    "\n",
    "expressions = [full_date, full_wo_weekday , holidays, numerical, day_the_ordinal, weekday_time, j_times, lone_years]\n",
    "\n",
    "for e in expressions:\n",
    "    pattern = re.compile(e)\n",
    "    for i in pattern.finditer(text):\n",
    "        matches.append(i.group())\n",
    "    text = re.sub(pattern, \"\", text)\n",
    "\n",
    "    \n",
    "# remove ending punctuation and newlines\n",
    "# write to output.txt\n",
    "f = open(\"../Data/Output/output.txt\", \"w\")\n",
    "for ele in matches:\n",
    "    f.write(ele.strip().strip(punctuation) + \"\\n\")\n",
    "f.close()\n",
    "\n",
    "\n",
    "print(matches)"
   ]
  }
 ],
 "metadata": {
  "kernelspec": {
   "display_name": "Python 3",
   "language": "python",
   "name": "python3"
  },
  "language_info": {
   "codemirror_mode": {
    "name": "ipython",
    "version": 3
   },
   "file_extension": ".py",
   "mimetype": "text/x-python",
   "name": "python",
   "nbconvert_exporter": "python",
   "pygments_lexer": "ipython3",
   "version": "3.8.8"
  }
 },
 "nbformat": 4,
 "nbformat_minor": 4
}
